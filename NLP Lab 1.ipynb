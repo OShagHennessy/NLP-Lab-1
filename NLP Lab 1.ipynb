{
 "cells": [
  {
   "cell_type": "code",
   "execution_count": 9,
   "id": "4db0e3e8-3949-422f-b73a-1428763e0f76",
   "metadata": {},
   "outputs": [
    {
     "name": "stdout",
     "output_type": "stream",
     "text": [
      "['He', 'found', 'it', 'a', 'lot', 'harder', 'to', 'concentrate', 'on', 'drills', 'that', 'afternoon', 'and', 'when', 'he', 'left', 'the', 'building', 'at', 'five', 'oclock', 'he', 'was', 'still', 'so', 'worried', 'that', 'he', 'walked', 'straight', 'into', 'someone', 'just', 'outside', 'the', 'door', 'Sorry', 'he', 'grunted', 'as', 'the', 'tiny', 'old', 'man', 'stumbled', 'and', 'almost', 'fell', 'It', 'was', 'a', 'few', 'seconds', 'before', 'Mr', 'Dursley', 'realized', 'that', 'the', 'man', 'was', 'wearing', 'a', 'violet', 'cloak', 'He', 'didnt', 'seem', 'at', 'all', 'upset', 'at', 'being', 'almost', 'knocked', 'to', 'the', 'ground', 'On', 'the', 'contrary', 'his', 'face', 'split', 'into', 'a', 'wide', 'smile', 'and', 'he', 'said', 'in', 'a', 'squeaky', 'voice', 'that', 'made', 'passersby', 'stare', 'Dont', 'be', 'sorry', 'my', 'dear', 'sir', 'for', 'nothing', 'could', 'upset', 'me', 'today', 'Rejoice', 'for', 'You', 'KnowWho', 'has', 'gone', 'at', 'last', 'Even', 'Muggles', 'like', 'yourself', 'should', 'be', 'celebrating', 'this', 'happy', 'happy', 'day', 'And', 'the', 'old', 'man', 'hugged', 'Mr', 'Dursley', 'around', 'the', 'middle', 'and', 'walked', 'off', 'Mr', 'Dursley', 'stood', 'rooted', 'to', 'the', 'spot', 'He', 'had', 'been', 'hugged', 'by', 'a', 'complete', 'stranger', 'He', 'also', 'thought', 'he', 'had', 'been', 'called', 'a', 'Muggle', 'whatever', 'that', 'was', 'He', 'was', 'rattled', 'He', 'hurried', 'to', 'his', 'car', 'and', 'set', 'off', 'for', 'home', 'hoping', 'he', 'was', 'imagining', 'things', 'which', 'he', 'had', 'never', 'hoped', 'before', 'because', 'he', 'didnt', 'approve', 'of', 'imagination', 'As', 'he', 'pulled', 'into', 'the', 'driveway', 'of', 'number', 'four', 'the', 'first', 'thing', 'he', 'saw', 'and', 'it', 'didnt', 'improve', 'his', 'mood', 'was', 'the', 'tabby', 'cat', 'hed', 'spotted', 'that', 'morning', 'It', 'was', 'now', 'sitting', 'on', 'his', 'garden', 'wall', 'He', 'was', 'sure', 'it', 'was', 'the', 'same', 'one', 'it', 'had', 'the', 'same', 'markings', 'around', 'its', 'eyes', 'Shoo', 'said', 'Mr', 'Dursley', 'loudly', 'The', 'cat', 'didnt', 'move', 'It', 'just', 'gave', 'him', 'a', 'stern', 'look', 'Was', 'this', 'normal', 'cat', 'behavior', 'Mr', 'Dursley', 'wondered', 'Trying', 'to', 'pull', 'himself', 'together', 'he', 'let', 'himself', 'into', 'the', 'house', 'He', 'was', 'still', 'determined', 'not', 'to', 'mention', 'anything', 'to', 'his', 'wife']\n"
     ]
    }
   ],
   "source": [
    "import re\n",
    "import string\n",
    "\n",
    "# Path to the input text file\n",
    "input_file_path = r\"C:\\Users\\leboh\\OneDrive - University of Witwatersrand\\Desktop\\Masters (Data Science)\\My\\NLP\\Lab 1\\Harry potter lab dataset.txt\"\n",
    "\n",
    "# Function to clean and split text\n",
    "def clean_and_split_text(file_path):\n",
    "    # Read the text file\n",
    "    with open(file_path, 'r', encoding='utf-8') as file:\n",
    "        text = file.read()\n",
    "    \n",
    "    # Remove punctuation (including speech marks)\n",
    "    text = re.sub(r'[^\\w\\s]', '', text)\n",
    "    \n",
    "    # Split text by whitespace\n",
    "    words = text.split()\n",
    "    \n",
    "    return words\n",
    "\n",
    "# Get the cleaned and split words\n",
    "words = clean_and_split_text(input_file_path)\n",
    "\n",
    "print(words)"
   ]
  }
 ],
 "metadata": {
  "kernelspec": {
   "display_name": "Python 3 (ipykernel)",
   "language": "python",
   "name": "python3"
  },
  "language_info": {
   "codemirror_mode": {
    "name": "ipython",
    "version": 3
   },
   "file_extension": ".py",
   "mimetype": "text/x-python",
   "name": "python",
   "nbconvert_exporter": "python",
   "pygments_lexer": "ipython3",
   "version": "3.12.4"
  }
 },
 "nbformat": 4,
 "nbformat_minor": 5
}
